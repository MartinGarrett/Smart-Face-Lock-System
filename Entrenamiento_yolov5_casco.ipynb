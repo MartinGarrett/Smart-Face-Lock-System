{
  "nbformat": 4,
  "nbformat_minor": 0,
  "metadata": {
    "colab": {
      "name": "Entrenamiento_yolov5_casco",
      "provenance": [],
      "collapsed_sections": [],
      "include_colab_link": true
    },
    "kernelspec": {
      "display_name": "Python 3",
      "name": "python3"
    }
  },
  "cells": [
    {
      "cell_type": "markdown",
      "metadata": {
        "id": "view-in-github",
        "colab_type": "text"
      },
      "source": [
        "<a href=\"https://colab.research.google.com/github/MartinGarrett/Smart-Face-Lock-System/blob/master/Entrenamiento_yolov5_casco.ipynb\" target=\"_parent\"><img src=\"https://colab.research.google.com/assets/colab-badge.svg\" alt=\"Open In Colab\"/></a>"
      ]
    },
    {
      "cell_type": "markdown",
      "metadata": {
        "id": "nPDc8yQtVxk4"
      },
      "source": [
        "#TensorFlow versions in Colab"
      ]
    },
    {
      "cell_type": "markdown",
      "metadata": {
        "id": "N2y2uqx9GfA5"
      },
      "source": [
        "\n",
        "##Background\n",
        "Colab has two versions of TensorFlow pre-installed: a 2.x version and a 1.x version. Colab uses TensorFlow 2.x by default, though you can switch to 1.x by the method shown below.\n"
      ]
    },
    {
      "cell_type": "markdown",
      "metadata": {
        "id": "aR_btJrKGdw7"
      },
      "source": [
        "##Specifying the TensorFlow version\n",
        "\n",
        "Running `import tensorflow` will import the default version (currently 2.x). You can use 1.x by running a cell with the `tensorflow_version` magic **before** you run `import tensorflow`."
      ]
    },
    {
      "cell_type": "code",
      "metadata": {
        "id": "2bwS7k8hxw6p"
      },
      "source": [
        ""
      ],
      "execution_count": null,
      "outputs": []
    },
    {
      "cell_type": "markdown",
      "metadata": {
        "id": "8dSlimhOVxlQ"
      },
      "source": [
        "Once you have specified a version via this magic, you can run `import tensorflow` as normal and verify which version was imported as follows:"
      ]
    },
    {
      "cell_type": "code",
      "metadata": {
        "colab": {
          "base_uri": "https://localhost:8080/"
        },
        "id": "-XbfkU7BeziQ",
        "outputId": "339fc7ef-a802-4560-fdb0-64c66d0fd821"
      },
      "source": [
        "import tensorflow\n",
        "print(tensorflow.__version__)"
      ],
      "execution_count": null,
      "outputs": [
        {
          "output_type": "stream",
          "text": [
            "2.5.0\n"
          ],
          "name": "stdout"
        }
      ]
    },
    {
      "cell_type": "markdown",
      "metadata": {
        "id": "uBIKyjpEVxlU"
      },
      "source": [
        "If you want to switch TensorFlow versions after import, you **will need to restart your runtime** with 'Runtime' -> 'Restart runtime...' and then specify the version before you import it again."
      ]
    },
    {
      "cell_type": "code",
      "metadata": {
        "id": "nw2gQkwDyCNN",
        "colab": {
          "base_uri": "https://localhost:8080/"
        },
        "outputId": "28e5d910-87ba-419a-b36b-5eebc074bd5b"
      },
      "source": [
        ""
      ],
      "execution_count": null,
      "outputs": [
        {
          "output_type": "stream",
          "text": [
            "sample_data\n"
          ],
          "name": "stdout"
        }
      ]
    },
    {
      "cell_type": "code",
      "metadata": {
        "id": "19uh5aBEzbME",
        "colab": {
          "base_uri": "https://localhost:8080/"
        },
        "outputId": "f01c11dd-743a-4b69-b242-3a46f99fe154"
      },
      "source": [
        "from google.colab import drive\n",
        "drive.mount('/content/drive')"
      ],
      "execution_count": 1,
      "outputs": [
        {
          "output_type": "stream",
          "text": [
            "Mounted at /content/drive\n"
          ],
          "name": "stdout"
        }
      ]
    },
    {
      "cell_type": "code",
      "metadata": {
        "colab": {
          "base_uri": "https://localhost:8080/"
        },
        "id": "IW-_APf-0Kk6",
        "outputId": "e9bcb7ee-5b4b-46f3-bef7-335011519cc7"
      },
      "source": [
        "!ls\n"
      ],
      "execution_count": null,
      "outputs": [
        {
          "output_type": "stream",
          "text": [
            "sample_data\n"
          ],
          "name": "stdout"
        }
      ]
    },
    {
      "cell_type": "code",
      "metadata": {
        "colab": {
          "base_uri": "https://localhost:8080/"
        },
        "id": "q-bGjfIr2Np0",
        "outputId": "5fca454d-7f56-4727-b5b9-70ffd4748f97"
      },
      "source": [
        "!git clone https://github.com/ultralytics/yolov5\n"
      ],
      "execution_count": 2,
      "outputs": [
        {
          "output_type": "stream",
          "text": [
            "Cloning into 'yolov5'...\n",
            "remote: Enumerating objects: 8990, done.\u001b[K\n",
            "remote: Counting objects: 100% (25/25), done.\u001b[K\n",
            "remote: Compressing objects: 100% (22/22), done.\u001b[K\n",
            "remote: Total 8990 (delta 10), reused 8 (delta 3), pack-reused 8965\u001b[K\n",
            "Receiving objects: 100% (8990/8990), 9.41 MiB | 25.30 MiB/s, done.\n",
            "Resolving deltas: 100% (6256/6256), done.\n"
          ],
          "name": "stdout"
        }
      ]
    },
    {
      "cell_type": "code",
      "metadata": {
        "colab": {
          "base_uri": "https://localhost:8080/"
        },
        "id": "LvdNwxiG2bKN",
        "outputId": "cc67e99c-6cd1-44c4-ea0a-0a594df591e5"
      },
      "source": [
        "\n",
        "\n",
        "!pip install -r yolov5/requirements.txt"
      ],
      "execution_count": 1,
      "outputs": [
        {
          "output_type": "stream",
          "text": [
            "\u001b[31mERROR: Could not open requirements file: [Errno 2] No such file or directory: 'yolov5/requirements.txt'\u001b[0m\n"
          ],
          "name": "stdout"
        }
      ]
    },
    {
      "cell_type": "code",
      "metadata": {
        "colab": {
          "base_uri": "https://localhost:8080/"
        },
        "id": "YGitn0sT3uOq",
        "outputId": "bcb438e8-b621-4783-c09b-442c6e91f307"
      },
      "source": [
        "!pip install utils\n",
        " "
      ],
      "execution_count": null,
      "outputs": [
        {
          "output_type": "stream",
          "text": [
            "Collecting utils\n",
            "  Downloading utils-1.0.1-py2.py3-none-any.whl (21 kB)\n",
            "Installing collected packages: utils\n",
            "Successfully installed utils-1.0.1\n"
          ],
          "name": "stdout"
        }
      ]
    },
    {
      "cell_type": "code",
      "metadata": {
        "colab": {
          "base_uri": "https://localhost:8080/"
        },
        "id": "Aw6lYYy-OIjz",
        "outputId": "6e8e418b-0ca5-4a50-d9b9-2a025d543e1f"
      },
      "source": [
        ""
      ],
      "execution_count": null,
      "outputs": [
        {
          "output_type": "stream",
          "text": [
            "Collecting google-utils\n",
            "  Downloading google_utils-1.0.3-py3-none-any.whl (16 kB)\n",
            "Requirement already satisfied: requests in /usr/local/lib/python3.7/dist-packages (from google-utils) (2.23.0)\n",
            "Requirement already satisfied: bs4 in /usr/local/lib/python3.7/dist-packages (from google-utils) (0.0.1)\n",
            "Requirement already satisfied: beautifulsoup4 in /usr/local/lib/python3.7/dist-packages (from bs4->google-utils) (4.6.3)\n",
            "Requirement already satisfied: urllib3!=1.25.0,!=1.25.1,<1.26,>=1.21.1 in /usr/local/lib/python3.7/dist-packages (from requests->google-utils) (1.24.3)\n",
            "Requirement already satisfied: chardet<4,>=3.0.2 in /usr/local/lib/python3.7/dist-packages (from requests->google-utils) (3.0.4)\n",
            "Requirement already satisfied: idna<3,>=2.5 in /usr/local/lib/python3.7/dist-packages (from requests->google-utils) (2.10)\n",
            "Requirement already satisfied: certifi>=2017.4.17 in /usr/local/lib/python3.7/dist-packages (from requests->google-utils) (2021.5.30)\n",
            "Installing collected packages: google-utils\n",
            "Successfully installed google-utils-1.0.3\n"
          ],
          "name": "stdout"
        }
      ]
    },
    {
      "cell_type": "code",
      "metadata": {
        "id": "8KQ6iPgP249y"
      },
      "source": [
        "import torch\n",
        "import os\n",
        "\n",
        "\n",
        "#os.chdir('./sample_data')\n",
        "from IPython.display import Image, clear_output  # to display images\n",
        "from yolov5.utils.google_utils import gdrive_download  # to download models/datasets\n"
      ],
      "execution_count": null,
      "outputs": []
    },
    {
      "cell_type": "code",
      "metadata": {
        "colab": {
          "base_uri": "https://localhost:8080/"
        },
        "id": "9ffIIfOTkBQT",
        "outputId": "929bcbae-ff2c-4192-b333-f685afeb8dd9"
      },
      "source": [
        "import os\n",
        "image_list = os.listdir('/content/drive/MyDrive/DatasetsCasco/Dataset/images/train')\n",
        "print(image_list)"
      ],
      "execution_count": 11,
      "outputs": [
        {
          "output_type": "stream",
          "text": [
            "['hard_hat_workers4669.png', 'hard_hat_workers655.png', 'hard_hat_workers4108.png', 'hard_hat_workers4785.png', 'hard_hat_workers4376.png', 'hard_hat_workers3944.png', 'hard_hat_workers1257.png', 'hard_hat_workers725.png', 'hard_hat_workers3291.png', 'hard_hat_workers1326.png', 'hard_hat_workers4302.png', 'hard_hat_workers413.png', 'hard_hat_workers4584.png', 'hard_hat_workers3282.png', 'hard_hat_workers3717.png', 'hard_hat_workers627.png', 'hard_hat_workers1968.png', 'hard_hat_workers1551.png', 'hard_hat_workers3279.png', 'hard_hat_workers1020.png', 'hard_hat_workers3960.png', 'hard_hat_workers2794.png', 'hard_hat_workers2705.png', 'hard_hat_workers2447.png', 'hard_hat_workers2345.png', 'hard_hat_workers1749.png', 'hard_hat_workers4103.png', 'hard_hat_workers1699.png', 'hard_hat_workers2957.png', 'hard_hat_workers16.png', 'hard_hat_workers1108.png', 'hard_hat_workers2970.png', 'hard_hat_workers3021.png', 'hard_hat_workers1648.png', 'hard_hat_workers3855.png', 'hard_hat_workers1843.png', 'hard_hat_workers4941.png', 'hard_hat_workers150.png', 'hard_hat_workers4952.png', 'hard_hat_workers3584.png', 'hard_hat_workers2387.png', 'hard_hat_workers2823.png', 'hard_hat_workers1838.png', 'hard_hat_workers2998.png', 'hard_hat_workers3884.png', 'hard_hat_workers3879.png', 'hard_hat_workers2844.png', 'hard_hat_workers3039.png', 'hard_hat_workers2371.png', 'hard_hat_workers467.png', 'hard_hat_workers3233.png', 'hard_hat_workers333.png', 'hard_hat_workers4762.png', 'hard_hat_workers1416.png', 'hard_hat_workers3736.png', 'hard_hat_workers61.png', 'hard_hat_workers4146.png', 'hard_hat_workers3377.png', 'hard_hat_workers305.png', 'hard_hat_workers3222.png', 'hard_hat_workers3602.png', 'hard_hat_workers2500.png', 'hard_hat_workers4242.png', 'hard_hat_workers1632.png', 'hard_hat_workers1397.png', 'hard_hat_workers1481.png', 'hard_hat_workers4474.png', 'hard_hat_workers1190.png', 'hard_hat_workers935.png', 'hard_hat_workers2511.png', 'hard_hat_workers1548.png', 'hard_hat_workers313.png', 'hard_hat_workers3465.png', 'hard_hat_workers4422.png', 'hard_hat_workers4150.png', 'hard_hat_workers3171.png', 'hard_hat_workers2767.png', 'hard_hat_workers3869.png', 'hard_hat_workers4966.png', 'hard_hat_workers4986.png', 'hard_hat_workers4384.png', 'hard_hat_workers853.png', 'hard_hat_workers2410.png', 'hard_hat_workers380.png', 'hard_hat_workers4187.png', 'hard_hat_workers1306.png', 'hard_hat_workers3895.png', 'hard_hat_workers2498.png', 'hard_hat_workers2264.png', 'hard_hat_workers2129.png', 'hard_hat_workers888.png', 'hard_hat_workers204.png', 'hard_hat_workers2665.png', 'hard_hat_workers2020.png', 'hard_hat_workers2200.png', 'hard_hat_workers4400.png', 'hard_hat_workers1330.png', 'hard_hat_workers2604.png', 'hard_hat_workers3723.png', 'hard_hat_workers1448.png', 'hard_hat_workers3407.png', 'hard_hat_workers4195.png', 'hard_hat_workers1188.png', 'hard_hat_workers73.png', 'hard_hat_workers3505.png', 'hard_hat_workers2223.png', 'hard_hat_workers2860 (1).png', 'hard_hat_workers3799.png', 'hard_hat_workers587.png', 'hard_hat_workers659.png', 'hard_hat_workers3014.png', 'hard_hat_workers3074.png', 'hard_hat_workers4578.png', 'hard_hat_workers3514.png', 'hard_hat_workers3382.png', 'hard_hat_workers496.png', 'hard_hat_workers2860.png', 'hard_hat_workers1298.png', 'hard_hat_workers4714.png', 'hard_hat_workers2210.png', 'hard_hat_workers710.png', 'hard_hat_workers133.png', 'hard_hat_workers864.png', 'hard_hat_workers4996.png', 'hard_hat_workers4770.png', 'hard_hat_workers1872.png', 'hard_hat_workers556.png', 'hard_hat_workers1199.png', 'hard_hat_workers4228.png', 'hard_hat_workers4580.png', 'hard_hat_workers1105.png', 'hard_hat_workers1922.png', 'hard_hat_workers2759.png', 'hard_hat_workers570.png', 'hard_hat_workers3378.png', 'hard_hat_workers3803.png', 'hard_hat_workers3894.png', 'hard_hat_workers3830.png', 'hard_hat_workers1238.png', 'hard_hat_workers426.png', 'hard_hat_workers3317.png', 'hard_hat_workers800.png', 'hard_hat_workers1911.png', 'hard_hat_workers1281.png', 'hard_hat_workers21.png', 'hard_hat_workers1965.png', 'hard_hat_workers1339.png', 'hard_hat_workers4142.png', 'hard_hat_workers2915.png', 'hard_hat_workers3922.png', 'hard_hat_workers1202.png', 'hard_hat_workers3603.png', 'hard_hat_workers4546.png', 'hard_hat_workers2332.png', 'hard_hat_workers740 (2).png', 'hard_hat_workers3464.png', 'hard_hat_workers544.png', 'hard_hat_workers1770.png', 'hard_hat_workers4577.png', 'hard_hat_workers834.png', 'hard_hat_workers2407.png', 'hard_hat_workers105.png', 'hard_hat_workers317.png', 'hard_hat_workers3369.png', 'hard_hat_workers2329.png', 'hard_hat_workers170.png', 'hard_hat_workers5.png', 'hard_hat_workers203.png', 'hard_hat_workers3872.png', 'hard_hat_workers1653.png', 'hard_hat_workers4955.png', 'hard_hat_workers943.png', 'hard_hat_workers1201.png', 'hard_hat_workers4232.png', 'hard_hat_workers218.png', 'hard_hat_workers637.png', 'hard_hat_workers1810.png', 'hard_hat_workers740 (1).png', 'hard_hat_workers2633.png', 'hard_hat_workers4190.png', 'hard_hat_workers3527.png', 'hard_hat_workers2309.png', 'hard_hat_workers2728.png', 'hard_hat_workers528.png', 'hard_hat_workers4000.png', 'hard_hat_workers469.png', 'hard_hat_workers412.png', 'hard_hat_workers690.png', 'hard_hat_workers217.png', 'hard_hat_workers3831.png', 'hard_hat_workers2334.png', 'hard_hat_workers4630.png', 'hard_hat_workers161.png', 'hard_hat_workers1541.png', 'hard_hat_workers4213.png', 'hard_hat_workers4053.png', 'hard_hat_workers1253.png', 'hard_hat_workers4157.png', 'hard_hat_workers4207.png', 'hard_hat_workers1329.png', 'hard_hat_workers2599.png', 'hard_hat_workers2525.png', 'hard_hat_workers1754.png', 'hard_hat_workers931.png', 'hard_hat_workers1617.png', 'hard_hat_workers1633.png', 'hard_hat_workers4391.png', 'hard_hat_workers1687.png', 'hard_hat_workers1252.png', 'hard_hat_workers2312.png', 'hard_hat_workers879.png', 'hard_hat_workers761.png', 'hard_hat_workers140.png', 'hard_hat_workers717.png', 'hard_hat_workers3027.png', 'hard_hat_workers2821.png', 'hard_hat_workers1489.png', 'hard_hat_workers4717.png', 'hard_hat_workers4833.png', 'hard_hat_workers106.png', 'hard_hat_workers1494.png', 'hard_hat_workers491.png', 'hard_hat_workers289.png', 'hard_hat_workers1070.png', 'hard_hat_workers2466.png', 'hard_hat_workers4639.png', 'hard_hat_workers1180.png', 'hard_hat_workers4258.png', 'hard_hat_workers2396.png', 'hard_hat_workers4297.png', 'hard_hat_workers4393.png', 'hard_hat_workers694.png', 'hard_hat_workers3004.png', 'hard_hat_workers4926.png', 'hard_hat_workers4415.png', 'hard_hat_workers594.png', 'hard_hat_workers3253.png', 'hard_hat_workers1950.png', 'hard_hat_workers14.png', 'hard_hat_workers3425.png', 'hard_hat_workers88.png', 'hard_hat_workers250.png', 'hard_hat_workers2399.png', 'hard_hat_workers2517.png', 'hard_hat_workers4109.png', 'hard_hat_workers2554.png', 'hard_hat_workers4499.png', 'hard_hat_workers3998.png', 'hard_hat_workers1181.png', 'hard_hat_workers1331.png', 'hard_hat_workers2279.png', 'hard_hat_workers3819.png', 'hard_hat_workers1064.png', 'hard_hat_workers2069.png', 'hard_hat_workers2052.png', 'hard_hat_workers1037.png', 'hard_hat_workers670.png', 'hard_hat_workers4848.png', 'hard_hat_workers4414.png', 'hard_hat_workers740.png', 'hard_hat_workers2344.png', 'hard_hat_workers400.png', 'hard_hat_workers3793.png', 'hard_hat_workers2515.png', 'hard_hat_workers891.png', 'hard_hat_workers2655.png', 'hard_hat_workers4739.png', 'hard_hat_workers2019.png', 'hard_hat_workers1056.png', 'hard_hat_workers4895.png', 'hard_hat_workers3937.png', 'hard_hat_workers3215.png', 'hard_hat_workers45.png', 'hard_hat_workers674.png', 'hard_hat_workers4923.png', 'hard_hat_workers2310.png', 'hard_hat_workers3096.png', 'hard_hat_workers2901.png', 'hard_hat_workers1350.png', 'hard_hat_workers3181.png', 'hard_hat_workers1488.png', 'hard_hat_workers3629.png', 'hard_hat_workers352.png', 'hard_hat_workers2045 (3).png', 'hard_hat_workers4357.png', 'hard_hat_workers4626.png', 'hard_hat_workers854.png', 'hard_hat_workers1759.png', 'hard_hat_workers4763.png', 'hard_hat_workers445.png', 'hard_hat_workers2601.png', 'hard_hat_workers3769.png', 'hard_hat_workers4398.png', 'hard_hat_workers2045 (2).png', 'hard_hat_workers3657.png', 'hard_hat_workers1560.png', 'hard_hat_workers4292.png', 'hard_hat_workers2674.png', 'hard_hat_workers3294.png', 'hard_hat_workers597.png', 'hard_hat_workers3826.png', 'hard_hat_workers436.png', 'hard_hat_workers74.png', 'hard_hat_workers916.png', 'hard_hat_workers654.png', 'hard_hat_workers2045 (1).png', 'hard_hat_workers1091.png', 'hard_hat_workers1929.png', 'hard_hat_workers2045.png', 'hard_hat_workers3058.png', 'hard_hat_workers652.png', 'hard_hat_workers3518.png', 'hard_hat_workers3987.png', 'hard_hat_workers1559.png', 'hard_hat_workers1375.png', 'hard_hat_workers697.png', 'hard_hat_workers348.png', 'hard_hat_workers2166.png', 'hard_hat_workers3002.png', 'hard_hat_workers3835.png', 'hard_hat_workers4667.png', 'hard_hat_workers3379.png', 'hard_hat_workers1703.png', 'hard_hat_workers124.png', 'hard_hat_workers2549.png', 'hard_hat_workers2122.png', 'hard_hat_workers1468.png', 'hard_hat_workers3909.png', 'hard_hat_workers779.png', 'hard_hat_workers4341.png', 'hard_hat_workers4239.png', 'hard_hat_workers4208.png', 'hard_hat_workers3410.png', 'hard_hat_workers3038.png', 'hard_hat_workers4182.png', 'hard_hat_workers84.png', 'hard_hat_workers4308.png', 'hard_hat_workers1027.png', 'hard_hat_workers2634.png', 'hard_hat_workers856.png', 'hard_hat_workers2360.png', 'hard_hat_workers4547.png', 'hard_hat_workers743.png', 'hard_hat_workers25.png', 'hard_hat_workers3594.png', 'hard_hat_workers3664.png', 'hard_hat_workers2096.png', 'hard_hat_workers3199.png', 'hard_hat_workers3824.png', 'hard_hat_workers4979.png', 'hard_hat_workers3880.png', 'hard_hat_workers776.png', 'hard_hat_workers3375.png', 'hard_hat_workers3304.png', 'hard_hat_workers99.png', 'hard_hat_workers3669.png', 'hard_hat_workers2154.png', 'hard_hat_workers1784.png', 'hard_hat_workers4203.png', 'hard_hat_workers283.png', 'hard_hat_workers394.png', 'hard_hat_workers4621.png', 'hard_hat_workers4022.png', 'hard_hat_workers3676.png', 'hard_hat_workers2159.png', 'hard_hat_workers2374.png', 'hard_hat_workers2887.png', 'hard_hat_workers4842.png', 'hard_hat_workers4549.png', 'hard_hat_workers4465.png', 'hard_hat_workers3256.png', 'hard_hat_workers2070.png', 'hard_hat_workers1948.png', 'hard_hat_workers1012.png', 'hard_hat_workers3252.png', 'hard_hat_workers3049.png', 'hard_hat_workers4678.png', 'hard_hat_workers1373.png', 'hard_hat_workers2703.png', 'hard_hat_workers4932.png', 'hard_hat_workers4752.png', 'hard_hat_workers716.png', 'hard_hat_workers3320.png', 'hard_hat_workers3047 (1).png', 'hard_hat_workers4816.png', 'hard_hat_workers1861.png', 'hard_hat_workers3399.png', 'hard_hat_workers4637.png', 'hard_hat_workers3066.png', 'hard_hat_workers3604.png', 'hard_hat_workers2171.png', 'hard_hat_workers3970.png', 'hard_hat_workers4532.png', 'hard_hat_workers1931.png', 'hard_hat_workers3047.png', 'hard_hat_workers480.png', 'hard_hat_workers1533.png', 'hard_hat_workers1261.png', 'hard_hat_workers1809.png', 'hard_hat_workers529.png', 'hard_hat_workers1319.png', 'hard_hat_workers1022.png', 'hard_hat_workers4134.png', 'hard_hat_workers3623.png', 'hard_hat_workers4701.png', 'hard_hat_workers3902.png', 'hard_hat_workers2445.png', 'hard_hat_workers2163.png', 'hard_hat_workers3341.png', 'hard_hat_workers2505.png', 'hard_hat_workers1545.png', 'hard_hat_workers2255.png', 'hard_hat_workers3746.png', 'hard_hat_workers4443.png', 'hard_hat_workers3115.png', 'hard_hat_workers4909.png', 'hard_hat_workers4911.png', 'hard_hat_workers760.png', 'hard_hat_workers3264.png', 'hard_hat_workers3897.png', 'hard_hat_workers746.png', 'hard_hat_workers940.png', 'hard_hat_workers4047.png', 'hard_hat_workers3035.png', 'hard_hat_workers1535.png', 'hard_hat_workers2828.png', 'hard_hat_workers2339.png', 'hard_hat_workers2104.png', 'hard_hat_workers2071.png', 'hard_hat_workers4636.png', 'hard_hat_workers2720.png', 'hard_hat_workers1672.png', 'hard_hat_workers3042.png', 'hard_hat_workers1445.png', 'hard_hat_workers1150.png', 'hard_hat_workers2302.png', 'hard_hat_workers3084.png', 'hard_hat_workers1098.png', 'hard_hat_workers684.png', 'hard_hat_workers415.png', 'hard_hat_workers255.png', 'hard_hat_workers1777.png', 'hard_hat_workers3727.png', 'hard_hat_workers1887.png', 'hard_hat_workers3033.png', 'hard_hat_workers1921.png', 'hard_hat_workers1741.png', 'hard_hat_workers1848.png', 'hard_hat_workers4775.png', 'hard_hat_workers2568.png', 'hard_hat_workers1079.png', 'hard_hat_workers2450.png', 'hard_hat_workers824.png', 'hard_hat_workers3560.png', 'hard_hat_workers103.png', 'hard_hat_workers2469.png', 'hard_hat_workers2750.png', 'hard_hat_workers724.png', 'hard_hat_workers2958.png', 'hard_hat_workers2460.png', 'hard_hat_workers1182.png', 'hard_hat_workers2043.png', 'hard_hat_workers284.png', 'hard_hat_workers2369.png', 'hard_hat_workers2661.png', 'hard_hat_workers4805.png', 'hard_hat_workers4886.png', 'hard_hat_workers1549.png', 'hard_hat_workers4156.png', 'hard_hat_workers574.png', 'hard_hat_workers3143.png', 'hard_hat_workers663.png', 'hard_hat_workers125.png', 'hard_hat_workers1684.png', 'hard_hat_workers3525.png', 'hard_hat_workers3232.png', 'hard_hat_workers4048.png', 'hard_hat_workers4557.png', 'hard_hat_workers226.png', 'hard_hat_workers1156.png', 'hard_hat_workers1918.png', 'hard_hat_workers4253.png', 'hard_hat_workers2514.png', 'hard_hat_workers1739.png', 'hard_hat_workers2806.png', 'hard_hat_workers1898.png', 'hard_hat_workers1387.png', 'hard_hat_workers1932.png', 'hard_hat_workers3782.png', 'hard_hat_workers295.png', 'hard_hat_workers1557.png', 'hard_hat_workers344.png', 'hard_hat_workers2155.png', 'hard_hat_workers4564.png', 'hard_hat_workers2239 (2).png', 'hard_hat_workers3452.png', 'hard_hat_workers631.png', 'hard_hat_workers2217.png', 'hard_hat_workers4149.png', 'hard_hat_workers1117.png', 'hard_hat_workers2239 (1).png', 'hard_hat_workers1486.png', 'hard_hat_workers4606.png', 'hard_hat_workers1157.png', 'hard_hat_workers2380.png', 'hard_hat_workers3472.png', 'hard_hat_workers1092.png', 'hard_hat_workers3641.png', 'hard_hat_workers2244.png', 'hard_hat_workers3614.png', 'hard_hat_workers2057.png', 'hard_hat_workers970.png', 'hard_hat_workers3643.png', 'hard_hat_workers1860.png', 'hard_hat_workers3177.png', 'hard_hat_workers431.png', 'hard_hat_workers2891.png', 'hard_hat_workers2174.png', 'hard_hat_workers3511.png', 'hard_hat_workers947.png', 'hard_hat_workers4489.png', 'hard_hat_workers4351.png', 'hard_hat_workers1700.png', 'hard_hat_workers3470.png', 'hard_hat_workers2918.png', 'hard_hat_workers1976.png', 'hard_hat_workers2239.png', 'hard_hat_workers205.png', 'hard_hat_workers1437.png', 'hard_hat_workers1490.png', 'hard_hat_workers56.png', 'hard_hat_workers4516.png', 'hard_hat_workers2424.png', 'hard_hat_workers2932.png', 'hard_hat_workers4015.png', 'hard_hat_workers1173.png', 'hard_hat_workers227.png', 'hard_hat_workers4028.png', 'hard_hat_workers147.png', 'hard_hat_workers3825.png', 'hard_hat_workers1192.png', 'hard_hat_workers792.png', 'hard_hat_workers2182.png', 'hard_hat_workers4467.png', 'hard_hat_workers92.png', 'hard_hat_workers4177.png', 'hard_hat_workers2442.png', 'hard_hat_workers4155.png', 'hard_hat_workers3121.png', 'hard_hat_workers530.png', 'hard_hat_workers2995.png', 'hard_hat_workers4766.png', 'hard_hat_workers4921.png', 'hard_hat_workers339.png', 'hard_hat_workers3442.png', 'hard_hat_workers1122.png', 'hard_hat_workers4237.png', 'hard_hat_workers1421.png', 'hard_hat_workers241.png', 'hard_hat_workers1761.png', 'hard_hat_workers4519.png', 'hard_hat_workers4599.png', 'hard_hat_workers3649.png', 'hard_hat_workers4866.png', 'hard_hat_workers3682.png', 'hard_hat_workers2741.png', 'hard_hat_workers4380.png', 'hard_hat_workers3323.png', 'hard_hat_workers3347.png', 'hard_hat_workers742.png', 'hard_hat_workers3338.png', 'hard_hat_workers2997.png', 'hard_hat_workers3918.png', 'hard_hat_workers2561.png', 'hard_hat_workers2910.png', 'hard_hat_workers4020.png', 'hard_hat_workers4504.png', 'hard_hat_workers4684.png', 'hard_hat_workers1305.png', 'hard_hat_workers3145.png', 'hard_hat_workers649.png', 'hard_hat_workers44.png', 'hard_hat_workers153.png', 'hard_hat_workers4963.png', 'hard_hat_workers964.png', 'hard_hat_workers165.png', 'hard_hat_workers2877.png', 'hard_hat_workers1572.png', 'hard_hat_workers4529.png', 'hard_hat_workers1364.png', 'hard_hat_workers4100.png', 'hard_hat_workers144.png', 'hard_hat_workers3088.png', 'hard_hat_workers2691.png', 'hard_hat_workers1951.png', 'hard_hat_workers2820.png', 'hard_hat_workers4472.png', 'hard_hat_workers2189.png', 'hard_hat_workers668.png', 'hard_hat_workers930.png', 'hard_hat_workers4230.png', 'hard_hat_workers3650.png', 'hard_hat_workers2125.png', 'hard_hat_workers782.png', 'hard_hat_workers1336.png', 'hard_hat_workers1248.png', 'hard_hat_workers2072.png', 'hard_hat_workers4880.png', 'hard_hat_workers3764.png', 'hard_hat_workers732.png', 'hard_hat_workers644.png', 'hard_hat_workers1501.png', 'hard_hat_workers4009.png', 'hard_hat_workers3775.png', 'hard_hat_workers3983.png', 'hard_hat_workers320.png', 'hard_hat_workers3851.png', 'hard_hat_workers3997.png', 'hard_hat_workers591.png', 'hard_hat_workers4026.png', 'hard_hat_workers4735.png', 'hard_hat_workers2502.png', 'hard_hat_workers1584.png', 'hard_hat_workers2822.png', 'hard_hat_workers3757.png', 'hard_hat_workers4608.png', 'hard_hat_workers4587.png', 'hard_hat_workers4538.png', 'hard_hat_workers1842.png', 'hard_hat_workers1365.png', 'hard_hat_workers4431.png', 'hard_hat_workers3829.png', 'hard_hat_workers3694.png', 'hard_hat_workers3515.png', 'hard_hat_workers3019.png', 'hard_hat_workers2120.png', 'hard_hat_workers1939.png', 'hard_hat_workers3942.png', 'hard_hat_workers4215.png', 'hard_hat_workers2729.png', 'hard_hat_workers1714 (1).png', 'hard_hat_workers2031.png', 'hard_hat_workers3754.png', 'hard_hat_workers4539.png', 'hard_hat_workers4264.png', 'hard_hat_workers1714.png', 'hard_hat_workers2507.png', 'hard_hat_workers904.png', 'hard_hat_workers2664.png', 'hard_hat_workers4493.png', 'hard_hat_workers4495.png', 'hard_hat_workers733.png', 'hard_hat_workers1581.png', 'hard_hat_workers194.png', 'hard_hat_workers1083.png', 'hard_hat_workers3762.png', 'hard_hat_workers789.png', 'hard_hat_workers3755.png', 'hard_hat_workers2177.png', 'hard_hat_workers1846.png', 'hard_hat_workers1295.png', 'hard_hat_workers3931.png', 'hard_hat_workers2573.png', 'hard_hat_workers1570.png', 'hard_hat_workers4017.png', 'hard_hat_workers4746.png', 'hard_hat_workers2531.png', 'hard_hat_workers497.png', 'hard_hat_workers1913.png', 'hard_hat_workers492.png', 'hard_hat_workers4839.png', 'hard_hat_workers4328.png', 'hard_hat_workers2151.png', 'hard_hat_workers2755.png', 'hard_hat_workers1245.png', 'hard_hat_workers1519.png', 'hard_hat_workers1446.png', 'hard_hat_workers4551.png', 'hard_hat_workers4412.png', 'hard_hat_workers4320.png', 'hard_hat_workers4369.png', 'hard_hat_workers1681.png', 'hard_hat_workers4817.png', 'hard_hat_workers4919.png', 'hard_hat_workers4446.png', 'hard_hat_workers3082.png', 'hard_hat_workers705.png', 'hard_hat_workers2054.png', 'hard_hat_workers2479.png', 'hard_hat_workers1014.png', 'hard_hat_workers385.png', 'hard_hat_workers2405.png', 'hard_hat_workers3418.png', 'hard_hat_workers3833.png', 'hard_hat_workers502.png', 'hard_hat_workers1472.png', 'hard_hat_workers4354.png', 'hard_hat_workers271.png', 'hard_hat_workers1206.png', 'hard_hat_workers1210.png', 'hard_hat_workers3183.png', 'hard_hat_workers1077.png', 'hard_hat_workers4734.png', 'hard_hat_workers3469.png', 'hard_hat_workers4758.png', 'hard_hat_workers1954.png', 'hard_hat_workers4991.png', 'hard_hat_workers3521.png', 'hard_hat_workers653.png', 'hard_hat_workers726.png', 'hard_hat_workers862.png', 'hard_hat_workers2446.png', 'hard_hat_workers4860.png', 'hard_hat_workers519.png', 'hard_hat_workers2824.png', 'hard_hat_workers343.png', 'hard_hat_workers4635.png', 'hard_hat_workers3535.png', 'hard_hat_workers3881.png', 'hard_hat_workers4622.png', 'hard_hat_workers4378.png', 'hard_hat_workers4081.png', 'hard_hat_workers3213.png', 'hard_hat_workers134.png', 'hard_hat_workers3945.png', 'hard_hat_workers912.png', 'hard_hat_workers1155.png', 'hard_hat_workers503.png', 'hard_hat_workers4600.png', 'hard_hat_workers4671.png', 'hard_hat_workers2089.png', 'hard_hat_workers4634.png', 'hard_hat_workers4294.png', 'hard_hat_workers1223.png', 'hard_hat_workers1232.png', 'hard_hat_workers2422 (1).png', 'hard_hat_workers3842.png', 'hard_hat_workers1169.png', 'hard_hat_workers3588.png', 'hard_hat_workers2422.png', 'hard_hat_workers2381.png', 'hard_hat_workers4411.png', 'hard_hat_workers3765.png', 'hard_hat_workers4364.png', 'hard_hat_workers1728.png', 'hard_hat_workers2161.png', 'hard_hat_workers1095.png', 'hard_hat_workers507.png', 'hard_hat_workers1733.png', 'hard_hat_workers4185.png', 'hard_hat_workers1384.png', 'hard_hat_workers1358.png', 'hard_hat_workers3719.png', 'hard_hat_workers2936.png', 'hard_hat_workers1978.png', 'hard_hat_workers462.png', 'hard_hat_workers235.png', 'hard_hat_workers1483.png', 'hard_hat_workers3144.png', 'hard_hat_workers4965.png', 'hard_hat_workers4325.png', 'hard_hat_workers2331.png', 'hard_hat_workers3130.png', 'hard_hat_workers2575.png', 'hard_hat_workers504.png', 'hard_hat_workers799.png', 'hard_hat_workers997.png', 'hard_hat_workers4650.png', 'hard_hat_workers1600.png', 'hard_hat_workers2830.png', 'hard_hat_workers2246.png', 'hard_hat_workers3920.png', 'hard_hat_workers1311.png', 'hard_hat_workers4934.png', 'hard_hat_workers3711.png', 'hard_hat_workers1800.png', 'hard_hat_workers4857.png', 'hard_hat_workers2666.png', 'hard_hat_workers1323.png', 'hard_hat_workers4834.png', 'hard_hat_workers630.png', 'hard_hat_workers3592.png', 'hard_hat_workers1221.png', 'hard_hat_workers718.png', 'hard_hat_workers3710.png', 'hard_hat_workers3108.png', 'hard_hat_workers3315.png', 'hard_hat_workers2084.png', 'hard_hat_workers4217.png', 'hard_hat_workers4853.png', 'hard_hat_workers1914.png', 'hard_hat_workers71.png', 'hard_hat_workers4754.png', 'hard_hat_workers4180.png', 'hard_hat_workers3313.png', 'hard_hat_workers968.png', 'hard_hat_workers425.png', 'hard_hat_workers22.png', 'hard_hat_workers4327.png', 'hard_hat_workers4517.png', 'hard_hat_workers38.png', 'hard_hat_workers2744.png', 'hard_hat_workers2916.png', 'hard_hat_workers1685.png', 'hard_hat_workers4238.png', 'hard_hat_workers2046 (1).png', 'hard_hat_workers3806.png', 'hard_hat_workers1144.png', 'hard_hat_workers1059.png', 'hard_hat_workers1742.png', 'hard_hat_workers3498.png', 'hard_hat_workers1567.png', 'hard_hat_workers1131.png', 'hard_hat_workers1191.png', 'hard_hat_workers1701.png', 'hard_hat_workers2983.png', 'hard_hat_workers1434.png', 'hard_hat_workers798.png', 'hard_hat_workers617.png', 'hard_hat_workers4670.png', 'hard_hat_workers1987.png', 'hard_hat_workers2046.png', 'hard_hat_workers4788.png', 'hard_hat_workers3519.png', 'hard_hat_workers4615.png', 'hard_hat_workers3270.png', 'hard_hat_workers1980.png', 'hard_hat_workers924.png', 'hard_hat_workers2427.png', 'hard_hat_workers116.png', 'hard_hat_workers1894.png', 'hard_hat_workers1081.png', 'hard_hat_workers447.png', 'hard_hat_workers1536.png', 'hard_hat_workers102.png', 'hard_hat_workers3932.png', 'hard_hat_workers1226.png', 'hard_hat_workers3184.png', 'hard_hat_workers228.png', 'hard_hat_workers2641.png', 'hard_hat_workers3605.png', 'hard_hat_workers1885.png', 'hard_hat_workers211.png', 'hard_hat_workers4511.png', 'hard_hat_workers2456.png', 'hard_hat_workers614.png', 'hard_hat_workers420.png', 'hard_hat_workers2709.png', 'hard_hat_workers1625.png', 'hard_hat_workers2358.png', 'hard_hat_workers104.png', 'hard_hat_workers3553.png', 'hard_hat_workers810.png', 'hard_hat_workers4884.png', 'hard_hat_workers3288.png', 'hard_hat_workers4917.png', 'hard_hat_workers3761.png', 'hard_hat_workers1440.png', 'hard_hat_workers1908.png', 'hard_hat_workers230.png', 'hard_hat_workers383.png', 'hard_hat_workers2366.png', 'hard_hat_workers2413.png', 'hard_hat_workers4896.png', 'hard_hat_workers164.png', 'hard_hat_workers3273.png', 'hard_hat_workers2646.png', 'hard_hat_workers3978.png', 'hard_hat_workers1783.png', 'hard_hat_workers3280.png', 'hard_hat_workers1198 (1).png', 'hard_hat_workers3523.png', 'hard_hat_workers3961.png', 'hard_hat_workers886.png', 'hard_hat_workers2004.png', 'hard_hat_workers261.png', 'hard_hat_workers4453.png', 'hard_hat_workers1753.png', 'hard_hat_workers1956.png', 'hard_hat_workers1198.png', 'hard_hat_workers15.png', 'hard_hat_workers2032.png', 'hard_hat_workers941.png', 'hard_hat_workers4500.png', 'hard_hat_workers1891.png', 'hard_hat_workers3479.png', 'hard_hat_workers4054.png', 'hard_hat_workers3401.png', 'hard_hat_workers636.png', 'hard_hat_workers4906.png', 'hard_hat_workers4223.png', 'hard_hat_workers2613.png', 'hard_hat_workers1426.png', 'hard_hat_workers2206.png', 'hard_hat_workers3573.png', 'hard_hat_workers3982.png', 'hard_hat_workers3133.png', 'hard_hat_workers3295.png', 'hard_hat_workers1537.png', 'hard_hat_workers805.png', 'hard_hat_workers3891.png', 'hard_hat_workers3057.png', 'hard_hat_workers4071.png', 'hard_hat_workers4241.png', 'hard_hat_workers4902.png', 'hard_hat_workers4711.png', 'hard_hat_workers3216.png', 'hard_hat_workers4461.png', 'hard_hat_workers20.png', 'hard_hat_workers1139.png', 'hard_hat_workers777.png', 'hard_hat_workers1799.png', 'hard_hat_workers4703.png', 'hard_hat_workers1945.png', 'hard_hat_workers4051 (1).png', 'hard_hat_workers582.png', 'hard_hat_workers4777.png', 'hard_hat_workers3191.png', 'hard_hat_workers4368.png', 'hard_hat_workers2808.png', 'hard_hat_workers1342.png', 'hard_hat_workers1817.png', 'hard_hat_workers1402.png', 'hard_hat_workers1036.png', 'hard_hat_workers3046.png', 'hard_hat_workers2648.png', 'hard_hat_workers4757.png', 'hard_hat_workers185.png', 'hard_hat_workers1895.png', 'hard_hat_workers4051.png', 'hard_hat_workers3767.png', 'hard_hat_workers3061.png', 'hard_hat_workers3564.png', 'hard_hat_workers2401.png', 'hard_hat_workers192.png', 'hard_hat_workers660.png', 'hard_hat_workers995.png', 'hard_hat_workers2987.png', 'hard_hat_workers2142.png', 'hard_hat_workers2418.png', 'hard_hat_workers1935.png', 'hard_hat_workers4874.png', 'hard_hat_workers1856.png', 'hard_hat_workers4544.png', 'hard_hat_workers304.png', 'hard_hat_workers3361.png', 'hard_hat_workers1429.png', 'hard_hat_workers1955.png', 'hard_hat_workers3991.png', 'hard_hat_workers443.png', 'hard_hat_workers1168.png', 'hard_hat_workers2092.png', 'hard_hat_workers4011.png', 'hard_hat_workers1990.png', 'hard_hat_workers2779.png', 'hard_hat_workers872.png', 'hard_hat_workers3572.png', 'hard_hat_workers1863.png', 'hard_hat_workers1853.png', 'hard_hat_workers2156.png', 'hard_hat_workers1925.png', 'hard_hat_workers4399.png', 'hard_hat_workers3619.png', 'hard_hat_workers4558.png', 'hard_hat_workers873.png', 'hard_hat_workers681.png', 'hard_hat_workers163.png', 'hard_hat_workers3911.png', 'hard_hat_workers992.png', 'hard_hat_workers3813.png', 'hard_hat_workers1660.png', 'hard_hat_workers314 (1).png', 'hard_hat_workers3877 (1).png', 'hard_hat_workers485.png', 'hard_hat_workers314.png', 'hard_hat_workers642.png', 'hard_hat_workers1053.png', 'hard_hat_workers812.png', 'hard_hat_workers41.png', 'hard_hat_workers2501.png', 'hard_hat_workers2496.png', 'hard_hat_workers4382.png', 'hard_hat_workers2800.png', 'hard_hat_workers1290.png', 'hard_hat_workers1073.png', 'hard_hat_workers3073.png', 'hard_hat_workers3834.png', 'hard_hat_workers1604.png', 'hard_hat_workers3877.png', 'hard_hat_workers2014.png', 'hard_hat_workers3353.png', 'hard_hat_workers567.png', 'hard_hat_workers520.png', 'hard_hat_workers774.png', 'hard_hat_workers1595.png', 'hard_hat_workers4115.png', 'hard_hat_workers1040.png', 'hard_hat_workers384.png', 'hard_hat_workers4534.png', 'hard_hat_workers4553.png', 'hard_hat_workers2528.png']\n"
          ],
          "name": "stdout"
        }
      ]
    },
    {
      "cell_type": "code",
      "metadata": {
        "id": "5jCZ8_09DAdr"
      },
      "source": [
        "import yaml\n",
        "\n",
        "dict_file = {'train':'/content/drive/MyDrive/DatasetsCasco/Dataset/images/train' ,\n",
        "            'val': '/content/drive/MyDrive/DatasetsCasco/Dataset/images/val',\n",
        "            'nc' : '3',\n",
        "            'names' : ['helmet','head','person']}\n",
        "\n",
        "with open('/kaggle/working/yolov5/data/hard_head.yaml', 'w+') as file:\n",
        "    documents = yaml.dump(dict_file, file)"
      ],
      "execution_count": null,
      "outputs": []
    }
  ]
}